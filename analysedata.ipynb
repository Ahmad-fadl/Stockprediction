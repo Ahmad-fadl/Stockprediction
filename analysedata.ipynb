{
 "cells": [
  {
   "cell_type": "code",
   "execution_count": 224,
   "metadata": {},
   "outputs": [],
   "source": [
    "\n",
    "from asyncore import read\n",
    "import csv\n",
    "from itertools import count\n",
    "import requests\n",
    "import pandas as pd\n",
    "from statistics import mean\n",
    "import numpy as np\n",
    "from sklearn.linear_model import LinearRegression\n",
    "from sklearn.ensemble import RandomForestRegressor\n",
    "import time\n",
    "import numpy\n",
    "import keras\n",
    "import os\n",
    "\n",
    "def get_data(name):\n",
    "        # replace the \"demo\" apikey below with your own key from https://www.alphavantage.co/support/#api-key\n",
    "    CSV_URL = 'https://www.alphavantage.co/query?function=TIME_SERIES_INTRADAY_EXTENDED&symbol='+name+'&interval=15min&slice=year1month1&apikey=FVENHA1GERNRSPQ4'\n",
    "\n",
    "    with requests.Session() as s:\n",
    "        download = s.get(CSV_URL)\n",
    "        decoded_content = download.content.decode('utf-8')\n",
    "        cr = csv.reader(decoded_content.splitlines(), delimiter=',')\n",
    "        my_list = list(cr)\n",
    "    return pd.DataFrame(data=my_list[1:] ,columns=my_list[0])\n",
    "\n",
    "\n",
    "def download_and_save_data_to_file(name):\n",
    "  get_data(name).to_csv(name+\".csv\",index=False,sep=\";\")\n",
    "\n",
    "def mymean(input):\n",
    "  return mean([float(input['open']),float(input['high']),float(input['low']),float(input['close'])])\n",
    "\n",
    "def prepare_data(data,number_ofcolumns):\n",
    "  newdata=pd.DataFrame()\n",
    "  data[\"volume\"]=data.apply(lambda inputrow:mymean(inputrow),axis=1)\n",
    "  #print(data)\n",
    "  data=data[[\"time\",\"volume\"]]\n",
    "  \n",
    "  for i in range(int(len(data)/number_ofcolumns)):\n",
    "    part=data.iloc[i*number_ofcolumns:(i+1)*number_ofcolumns]\n",
    "    part.index=[0]*len(part)\n",
    "    part=pd.pivot(part,columns=\"time\",values=\"volume\")\n",
    "    #part.columns=[\"1\",\"2\",\"3\",\"4\",\"5\",\"6\",\"7\",\"8\",\"9\",\"10\"]\n",
    "    part.columns=[str(i) for i in range(number_ofcolumns)]\n",
    "    newdata=newdata.append(part)\n",
    "    newdata.index=range(len(newdata))\n",
    "  return newdata.drop_duplicates()\n",
    "\n",
    "def read_and_prepare_multiple_companies_data(companies,number_of_columns):\n",
    "  final_data=pd.DataFrame()\n",
    "  for company in companies:\n",
    "    \n",
    "    final_data=final_data.append(prepare_data(get_data(company),number_of_columns))\n",
    "    time.sleep(3)\n",
    "\n",
    "  return final_data\n",
    "\n",
    "def download_and_save_multiple_companies_to_files(companies):\n",
    "  for company in companies:\n",
    "    download_and_save_data_to_file(company)\n",
    "\n",
    "def read_and_orepare_multiple_companies_from_files(number_of_columns):\n",
    "  data=[]\n",
    "  counter=0\n",
    "  for root,dir,files in os.walk(os.getcwd()):    \n",
    "    for file in files:\n",
    "      if(file.endswith(\".csv\")):\n",
    "        temp=pd.read_csv(file,sep=\";\")\n",
    "        data.append(prepare_data(temp,number_of_columns))\n",
    "\n",
    "  return pd.concat(data, axis=0, ignore_index=True)\n",
    "\n",
    "\n",
    "\n",
    "    \n",
    "  \n"
   ]
  },
  {
   "cell_type": "code",
   "execution_count": 216,
   "metadata": {},
   "outputs": [],
   "source": [
    "data=pd.read_csv(\"SAP.csv\",sep=\";\")\n"
   ]
  },
  {
   "cell_type": "code",
   "execution_count": 135,
   "metadata": {},
   "outputs": [],
   "source": [
    "companies=['SAP','IBM','GOOG','META','TSLA','AMZN']"
   ]
  },
  {
   "cell_type": "code",
   "execution_count": 136,
   "metadata": {},
   "outputs": [],
   "source": [
    "download_and_save_multiple_companies_to_files(companies)"
   ]
  },
  {
   "cell_type": "code",
   "execution_count": 225,
   "metadata": {},
   "outputs": [],
   "source": [
    "sample=read_and_orepare_multiple_companies_from_files(10)"
   ]
  },
  {
   "cell_type": "code",
   "execution_count": 226,
   "metadata": {},
   "outputs": [
    {
     "name": "stdout",
     "output_type": "stream",
     "text": [
      "              0           1          2           3           4          5  \\\n",
      "0    121.960000  122.077500  122.32375  122.466250  122.625000  122.74000   \n",
      "1    123.002500  122.793600  122.83625  122.930075  122.744875  122.54275   \n",
      "2    124.120000  124.189175  124.31125  124.090000  123.757500  123.78750   \n",
      "3    125.500000  125.350000  125.00000  124.610000  124.767500  124.39360   \n",
      "4    125.907500  126.290000  126.19250  125.997500  125.736675  125.38500   \n",
      "..          ...         ...        ...         ...         ...        ...   \n",
      "486   84.570000   84.747500   84.60000   84.450000   84.383750   84.24625   \n",
      "487   85.685000   85.610000   85.22750   84.950000   84.705000   84.66750   \n",
      "488   84.816250   84.858300   84.83410   84.768750   84.674000   85.07000   \n",
      "489   84.654550   84.645000   84.82250   84.824525   84.733975   84.85675   \n",
      "490   84.600025   84.555000   84.76500   84.553975   84.331950   84.30750   \n",
      "\n",
      "              6           7          8           9  \n",
      "0    122.850000  123.000000  122.71000  122.710000  \n",
      "1    122.630600  122.614125  122.42915  122.280000  \n",
      "2    123.842775  123.657500  123.29040  123.209975  \n",
      "3    124.258825  124.250000  124.55350  124.382500  \n",
      "4    125.310000  125.310000  125.45000  125.450000  \n",
      "..          ...         ...        ...         ...  \n",
      "486   84.235050   84.283550   84.43000   84.395000  \n",
      "487   84.692500   84.564525   84.52905   84.417250  \n",
      "488   86.070000   86.220000   86.20750   85.850000  \n",
      "489   84.936250   84.930775   84.81500   84.865000  \n",
      "490   84.388750   84.417500   84.43500   84.621250  \n",
      "\n",
      "[491 rows x 10 columns]\n"
     ]
    }
   ],
   "source": [
    "print(sample)"
   ]
  },
  {
   "cell_type": "code",
   "execution_count": 227,
   "metadata": {},
   "outputs": [
    {
     "data": {
      "text/html": [
       "<div>\n",
       "<style scoped>\n",
       "    .dataframe tbody tr th:only-of-type {\n",
       "        vertical-align: middle;\n",
       "    }\n",
       "\n",
       "    .dataframe tbody tr th {\n",
       "        vertical-align: top;\n",
       "    }\n",
       "\n",
       "    .dataframe thead th {\n",
       "        text-align: right;\n",
       "    }\n",
       "</style>\n",
       "<table border=\"1\" class=\"dataframe\">\n",
       "  <thead>\n",
       "    <tr style=\"text-align: right;\">\n",
       "      <th></th>\n",
       "      <th>0</th>\n",
       "      <th>1</th>\n",
       "      <th>2</th>\n",
       "      <th>3</th>\n",
       "      <th>4</th>\n",
       "      <th>5</th>\n",
       "      <th>6</th>\n",
       "      <th>7</th>\n",
       "      <th>8</th>\n",
       "      <th>9</th>\n",
       "    </tr>\n",
       "  </thead>\n",
       "  <tbody>\n",
       "    <tr>\n",
       "      <th>488</th>\n",
       "      <td>84.816250</td>\n",
       "      <td>84.8583</td>\n",
       "      <td>84.8341</td>\n",
       "      <td>84.768750</td>\n",
       "      <td>84.674000</td>\n",
       "      <td>85.07000</td>\n",
       "      <td>86.07000</td>\n",
       "      <td>86.220000</td>\n",
       "      <td>86.2075</td>\n",
       "      <td>85.85000</td>\n",
       "    </tr>\n",
       "    <tr>\n",
       "      <th>489</th>\n",
       "      <td>84.654550</td>\n",
       "      <td>84.6450</td>\n",
       "      <td>84.8225</td>\n",
       "      <td>84.824525</td>\n",
       "      <td>84.733975</td>\n",
       "      <td>84.85675</td>\n",
       "      <td>84.93625</td>\n",
       "      <td>84.930775</td>\n",
       "      <td>84.8150</td>\n",
       "      <td>84.86500</td>\n",
       "    </tr>\n",
       "    <tr>\n",
       "      <th>490</th>\n",
       "      <td>84.600025</td>\n",
       "      <td>84.5550</td>\n",
       "      <td>84.7650</td>\n",
       "      <td>84.553975</td>\n",
       "      <td>84.331950</td>\n",
       "      <td>84.30750</td>\n",
       "      <td>84.38875</td>\n",
       "      <td>84.417500</td>\n",
       "      <td>84.4350</td>\n",
       "      <td>84.62125</td>\n",
       "    </tr>\n",
       "  </tbody>\n",
       "</table>\n",
       "</div>"
      ],
      "text/plain": [
       "             0        1        2          3          4         5         6  \\\n",
       "488  84.816250  84.8583  84.8341  84.768750  84.674000  85.07000  86.07000   \n",
       "489  84.654550  84.6450  84.8225  84.824525  84.733975  84.85675  84.93625   \n",
       "490  84.600025  84.5550  84.7650  84.553975  84.331950  84.30750  84.38875   \n",
       "\n",
       "             7        8         9  \n",
       "488  86.220000  86.2075  85.85000  \n",
       "489  84.930775  84.8150  84.86500  \n",
       "490  84.417500  84.4350  84.62125  "
      ]
     },
     "execution_count": 227,
     "metadata": {},
     "output_type": "execute_result"
    }
   ],
   "source": [
    "sample.tail(3)"
   ]
  },
  {
   "cell_type": "code",
   "execution_count": 154,
   "metadata": {},
   "outputs": [
    {
     "data": {
      "text/plain": [
       "0"
      ]
     },
     "execution_count": 154,
     "metadata": {},
     "output_type": "execute_result"
    }
   ],
   "source": [
    "len(sample.columns)"
   ]
  },
  {
   "cell_type": "code",
   "execution_count": 228,
   "metadata": {},
   "outputs": [],
   "source": [
    "regressor = RandomForestRegressor(n_estimators = 100, random_state = 0)   "
   ]
  },
  {
   "cell_type": "code",
   "execution_count": 229,
   "metadata": {},
   "outputs": [
    {
     "data": {
      "text/plain": [
       "RandomForestRegressor(random_state=0)"
      ]
     },
     "execution_count": 229,
     "metadata": {},
     "output_type": "execute_result"
    }
   ],
   "source": [
    "regressor.fit(sample[[str(i )for i in range(len(sample.columns)-1)]]  ,sample[str(len(sample.columns)-1)])  "
   ]
  },
  {
   "cell_type": "code",
   "execution_count": 237,
   "metadata": {},
   "outputs": [],
   "source": [
    "test=numpy.array(sample.iloc[341].tolist())"
   ]
  },
  {
   "cell_type": "code",
   "execution_count": 238,
   "metadata": {},
   "outputs": [
    {
     "data": {
      "text/plain": [
       "array([103.922175])"
      ]
     },
     "execution_count": 238,
     "metadata": {},
     "output_type": "execute_result"
    }
   ],
   "source": [
    "regressor.predict([test[0:9]])"
   ]
  },
  {
   "cell_type": "code",
   "execution_count": 240,
   "metadata": {},
   "outputs": [
    {
     "data": {
      "text/plain": [
       "0    103.667500\n",
       "1    103.685000\n",
       "2    103.767500\n",
       "3    103.717500\n",
       "4    103.727525\n",
       "5    103.792500\n",
       "6    103.880000\n",
       "7    103.912500\n",
       "8    103.907500\n",
       "9    103.980000\n",
       "Name: 341, dtype: float64"
      ]
     },
     "execution_count": 240,
     "metadata": {},
     "output_type": "execute_result"
    }
   ],
   "source": [
    "sample.iloc[341]"
   ]
  }
 ],
 "metadata": {
  "kernelspec": {
   "display_name": "Python 3.9.12 64-bit",
   "language": "python",
   "name": "python3"
  },
  "language_info": {
   "codemirror_mode": {
    "name": "ipython",
    "version": 3
   },
   "file_extension": ".py",
   "mimetype": "text/x-python",
   "name": "python",
   "nbconvert_exporter": "python",
   "pygments_lexer": "ipython3",
   "version": "3.9.12"
  },
  "orig_nbformat": 4,
  "vscode": {
   "interpreter": {
    "hash": "aee8b7b246df8f9039afb4144a1f6fd8d2ca17a180786b69acc140d282b71a49"
   }
  }
 },
 "nbformat": 4,
 "nbformat_minor": 2
}
